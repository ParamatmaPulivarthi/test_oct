{
 "cells": [
  {
   "cell_type": "markdown",
   "id": "aa61bbe6",
   "metadata": {},
   "source": [
    "# print(\"hi\")"
   ]
  },
  {
   "cell_type": "code",
   "execution_count": null,
   "id": "7194bd77",
   "metadata": {},
   "outputs": [],
   "source": [
    "# data types"
   ]
  },
  {
   "cell_type": "code",
   "execution_count": null,
   "id": "3fffe301",
   "metadata": {},
   "outputs": [],
   "source": [
    "variablename operator value"
   ]
  },
  {
   "cell_type": "code",
   "execution_count": 2,
   "id": "78bd7ab5",
   "metadata": {},
   "outputs": [],
   "source": [
    "average_milk_sales = 10"
   ]
  },
  {
   "cell_type": "code",
   "execution_count": 3,
   "id": "cb46259f",
   "metadata": {},
   "outputs": [
    {
     "data": {
      "text/plain": [
       "10"
      ]
     },
     "execution_count": 3,
     "metadata": {},
     "output_type": "execute_result"
    }
   ],
   "source": [
    "average_milk_sales"
   ]
  },
  {
   "cell_type": "code",
   "execution_count": 4,
   "id": "027b26f0",
   "metadata": {},
   "outputs": [
    {
     "name": "stdout",
     "output_type": "stream",
     "text": [
      "10\n"
     ]
    }
   ],
   "source": [
    "print(average_milk_sales)"
   ]
  },
  {
   "cell_type": "code",
   "execution_count": 5,
   "id": "6fdac3a2",
   "metadata": {},
   "outputs": [
    {
     "data": {
      "text/plain": [
       "int"
      ]
     },
     "execution_count": 5,
     "metadata": {},
     "output_type": "execute_result"
    }
   ],
   "source": [
    "type(average_milk_sales)"
   ]
  },
  {
   "cell_type": "code",
   "execution_count": 7,
   "id": "a2b69820",
   "metadata": {},
   "outputs": [],
   "source": [
    "dailyl_sale_average= 10.5"
   ]
  },
  {
   "cell_type": "code",
   "execution_count": 8,
   "id": "6a068a51",
   "metadata": {},
   "outputs": [
    {
     "data": {
      "text/plain": [
       "10.5"
      ]
     },
     "execution_count": 8,
     "metadata": {},
     "output_type": "execute_result"
    }
   ],
   "source": [
    "dailyl_sale_average\n"
   ]
  },
  {
   "cell_type": "code",
   "execution_count": 9,
   "id": "4d960546",
   "metadata": {},
   "outputs": [
    {
     "data": {
      "text/plain": [
       "float"
      ]
     },
     "execution_count": 9,
     "metadata": {},
     "output_type": "execute_result"
    }
   ],
   "source": [
    "type(dailyl_sale_average)"
   ]
  },
  {
   "cell_type": "code",
   "execution_count": 10,
   "id": "1b3cc736",
   "metadata": {},
   "outputs": [],
   "source": [
    "name = 'param'"
   ]
  },
  {
   "cell_type": "code",
   "execution_count": 11,
   "id": "1a3e75b8",
   "metadata": {},
   "outputs": [
    {
     "data": {
      "text/plain": [
       "'param'"
      ]
     },
     "execution_count": 11,
     "metadata": {},
     "output_type": "execute_result"
    }
   ],
   "source": [
    "name"
   ]
  },
  {
   "cell_type": "code",
   "execution_count": 12,
   "id": "e021f3c7",
   "metadata": {},
   "outputs": [
    {
     "data": {
      "text/plain": [
       "str"
      ]
     },
     "execution_count": 12,
     "metadata": {},
     "output_type": "execute_result"
    }
   ],
   "source": [
    "type(name)"
   ]
  },
  {
   "cell_type": "code",
   "execution_count": 13,
   "id": "9a8f32d6",
   "metadata": {},
   "outputs": [],
   "source": [
    "name = \"athma\""
   ]
  },
  {
   "cell_type": "code",
   "execution_count": 14,
   "id": "0786adea",
   "metadata": {},
   "outputs": [
    {
     "data": {
      "text/plain": [
       "'athma'"
      ]
     },
     "execution_count": 14,
     "metadata": {},
     "output_type": "execute_result"
    }
   ],
   "source": [
    "name"
   ]
  },
  {
   "cell_type": "code",
   "execution_count": 15,
   "id": "ea25fdbe",
   "metadata": {},
   "outputs": [
    {
     "data": {
      "text/plain": [
       "str"
      ]
     },
     "execution_count": 15,
     "metadata": {},
     "output_type": "execute_result"
    }
   ],
   "source": [
    "type(name)"
   ]
  },
  {
   "cell_type": "code",
   "execution_count": 16,
   "id": "36a7a4fa",
   "metadata": {},
   "outputs": [],
   "source": [
    "parag= '''this is my first project\n",
    "project on computer science '''"
   ]
  },
  {
   "cell_type": "code",
   "execution_count": 17,
   "id": "9ce9a307",
   "metadata": {},
   "outputs": [
    {
     "data": {
      "text/plain": [
       "'this is my first project\\nproject on computer science '"
      ]
     },
     "execution_count": 17,
     "metadata": {},
     "output_type": "execute_result"
    }
   ],
   "source": [
    "parag"
   ]
  },
  {
   "cell_type": "code",
   "execution_count": 18,
   "id": "5f157c8a",
   "metadata": {},
   "outputs": [
    {
     "data": {
      "text/plain": [
       "str"
      ]
     },
     "execution_count": 18,
     "metadata": {},
     "output_type": "execute_result"
    }
   ],
   "source": [
    "type(parag)"
   ]
  },
  {
   "cell_type": "code",
   "execution_count": null,
   "id": "6b1d56dc",
   "metadata": {},
   "outputs": [],
   "source": []
  },
  {
   "cell_type": "code",
   "execution_count": 19,
   "id": "866825b6",
   "metadata": {},
   "outputs": [],
   "source": [
    "addres= ' doorno90-98,vja-1, pin:521145'"
   ]
  },
  {
   "cell_type": "code",
   "execution_count": 20,
   "id": "37caaad8",
   "metadata": {},
   "outputs": [
    {
     "data": {
      "text/plain": [
       "' doorno90-98,vja-1, pin:521145'"
      ]
     },
     "execution_count": 20,
     "metadata": {},
     "output_type": "execute_result"
    }
   ],
   "source": [
    "addres"
   ]
  },
  {
   "cell_type": "code",
   "execution_count": 21,
   "id": "7edd83fe",
   "metadata": {},
   "outputs": [
    {
     "data": {
      "text/plain": [
       "str"
      ]
     },
     "execution_count": 21,
     "metadata": {},
     "output_type": "execute_result"
    }
   ],
   "source": [
    "type(addres)"
   ]
  },
  {
   "cell_type": "code",
   "execution_count": 22,
   "id": "e31c57cb",
   "metadata": {},
   "outputs": [],
   "source": [
    "lst =[\"ramu\",\"raghu\",\"rani\"]"
   ]
  },
  {
   "cell_type": "code",
   "execution_count": 23,
   "id": "fd15118f",
   "metadata": {},
   "outputs": [
    {
     "data": {
      "text/plain": [
       "['ramu', 'raghu', 'rani']"
      ]
     },
     "execution_count": 23,
     "metadata": {},
     "output_type": "execute_result"
    }
   ],
   "source": [
    "lst"
   ]
  },
  {
   "cell_type": "code",
   "execution_count": null,
   "id": "f167dc20",
   "metadata": {},
   "outputs": [],
   "source": [
    "index ---0-n"
   ]
  },
  {
   "cell_type": "code",
   "execution_count": null,
   "id": "3f0d7b60",
   "metadata": {},
   "outputs": [],
   "source": [
    "3"
   ]
  },
  {
   "cell_type": "code",
   "execution_count": null,
   "id": "234ae672",
   "metadata": {},
   "outputs": [],
   "source": [
    "slicing--?\\>"
   ]
  },
  {
   "cell_type": "code",
   "execution_count": null,
   "id": "8d016d12",
   "metadata": {},
   "outputs": [],
   "source": [
    "lst[index]"
   ]
  },
  {
   "cell_type": "code",
   "execution_count": null,
   "id": "d8f362c8",
   "metadata": {},
   "outputs": [],
   "source": [
    "lst[starring index : end index]"
   ]
  },
  {
   "cell_type": "code",
   "execution_count": 24,
   "id": "df8e15b8",
   "metadata": {},
   "outputs": [
    {
     "data": {
      "text/plain": [
       "'ramu'"
      ]
     },
     "execution_count": 24,
     "metadata": {},
     "output_type": "execute_result"
    }
   ],
   "source": [
    "lst[0]"
   ]
  },
  {
   "cell_type": "code",
   "execution_count": 25,
   "id": "2920bb2c",
   "metadata": {},
   "outputs": [
    {
     "data": {
      "text/plain": [
       "['ramu', 'raghu']"
      ]
     },
     "execution_count": 25,
     "metadata": {},
     "output_type": "execute_result"
    }
   ],
   "source": [
    "lst[0:2]"
   ]
  },
  {
   "cell_type": "code",
   "execution_count": 26,
   "id": "45e00cab",
   "metadata": {},
   "outputs": [
    {
     "data": {
      "text/plain": [
       "['ramu', 'raghu']"
      ]
     },
     "execution_count": 26,
     "metadata": {},
     "output_type": "execute_result"
    }
   ],
   "source": [
    "lst[:2]"
   ]
  },
  {
   "cell_type": "code",
   "execution_count": 27,
   "id": "83abdb69",
   "metadata": {},
   "outputs": [
    {
     "data": {
      "text/plain": [
       "['ramu', 'raghu', 'rani']"
      ]
     },
     "execution_count": 27,
     "metadata": {},
     "output_type": "execute_result"
    }
   ],
   "source": [
    "lst"
   ]
  },
  {
   "cell_type": "code",
   "execution_count": 28,
   "id": "b7c99a9b",
   "metadata": {},
   "outputs": [],
   "source": [
    "lst[0]='ramesh'"
   ]
  },
  {
   "cell_type": "code",
   "execution_count": 29,
   "id": "f28267d2",
   "metadata": {},
   "outputs": [
    {
     "data": {
      "text/plain": [
       "['ramesh', 'raghu', 'rani']"
      ]
     },
     "execution_count": 29,
     "metadata": {},
     "output_type": "execute_result"
    }
   ],
   "source": [
    "lst"
   ]
  },
  {
   "cell_type": "code",
   "execution_count": 30,
   "id": "06b6228b",
   "metadata": {},
   "outputs": [],
   "source": [
    "tuple_lst=(10,20,30)"
   ]
  },
  {
   "cell_type": "code",
   "execution_count": null,
   "id": "cdecbe62",
   "metadata": {},
   "outputs": [],
   "source": [
    "tuple_lst---replacement ,, "
   ]
  },
  {
   "cell_type": "code",
   "execution_count": 31,
   "id": "54a81c8d",
   "metadata": {},
   "outputs": [],
   "source": [
    "set_lst= {10,10,30,20,40,60,50}"
   ]
  },
  {
   "cell_type": "code",
   "execution_count": 32,
   "id": "baa8e661",
   "metadata": {},
   "outputs": [],
   "source": [
    "set_lst= {10,10,30,20,40,60,50}"
   ]
  },
  {
   "cell_type": "code",
   "execution_count": null,
   "id": "4a55b58c",
   "metadata": {},
   "outputs": [],
   "source": []
  },
  {
   "cell_type": "code",
   "execution_count": null,
   "id": "c0d2788d",
   "metadata": {},
   "outputs": [],
   "source": []
  },
  {
   "cell_type": "code",
   "execution_count": null,
   "id": "9381f3d5",
   "metadata": {},
   "outputs": [],
   "source": []
  },
  {
   "cell_type": "code",
   "execution_count": 33,
   "id": "98a60a73",
   "metadata": {},
   "outputs": [
    {
     "data": {
      "text/plain": [
       "{10, 20, 30, 40, 50, 60}"
      ]
     },
     "execution_count": 33,
     "metadata": {},
     "output_type": "execute_result"
    }
   ],
   "source": [
    "set_lst"
   ]
  },
  {
   "cell_type": "code",
   "execution_count": 34,
   "id": "1c88731d",
   "metadata": {},
   "outputs": [],
   "source": [
    "dict_single= {\"name\": \"param\"}"
   ]
  },
  {
   "cell_type": "code",
   "execution_count": 35,
   "id": "b64970be",
   "metadata": {},
   "outputs": [
    {
     "data": {
      "text/plain": [
       "{'name': 'param'}"
      ]
     },
     "execution_count": 35,
     "metadata": {},
     "output_type": "execute_result"
    }
   ],
   "source": [
    "dict_single"
   ]
  },
  {
   "cell_type": "code",
   "execution_count": null,
   "id": "e8c99ff2",
   "metadata": {},
   "outputs": [],
   "source": [
    "dict_single[keys]"
   ]
  },
  {
   "cell_type": "code",
   "execution_count": 36,
   "id": "6ba7603f",
   "metadata": {},
   "outputs": [
    {
     "data": {
      "text/plain": [
       "dict_keys(['name'])"
      ]
     },
     "execution_count": 36,
     "metadata": {},
     "output_type": "execute_result"
    }
   ],
   "source": [
    "dict_single.keys()"
   ]
  },
  {
   "cell_type": "code",
   "execution_count": 37,
   "id": "65cd39f2",
   "metadata": {},
   "outputs": [
    {
     "data": {
      "text/plain": [
       "'param'"
      ]
     },
     "execution_count": 37,
     "metadata": {},
     "output_type": "execute_result"
    }
   ],
   "source": [
    "dict_single[\"name\"]"
   ]
  },
  {
   "cell_type": "code",
   "execution_count": null,
   "id": "30402a9a",
   "metadata": {},
   "outputs": [],
   "source": [
    "mulitple keys, singlue value"
   ]
  },
  {
   "cell_type": "code",
   "execution_count": 40,
   "id": "6308ecda",
   "metadata": {},
   "outputs": [],
   "source": [
    "dict_mul_sing={\"name\":\"param\", \"unit1\": 20, \"unit2\": 30}"
   ]
  },
  {
   "cell_type": "code",
   "execution_count": 41,
   "id": "34f61c72",
   "metadata": {},
   "outputs": [
    {
     "data": {
      "text/plain": [
       "dict_keys(['name', 'unit1', 'unit2'])"
      ]
     },
     "execution_count": 41,
     "metadata": {},
     "output_type": "execute_result"
    }
   ],
   "source": [
    "dict_mul_sing.keys()"
   ]
  },
  {
   "cell_type": "code",
   "execution_count": 42,
   "id": "04245639",
   "metadata": {},
   "outputs": [
    {
     "data": {
      "text/plain": [
       "'param'"
      ]
     },
     "execution_count": 42,
     "metadata": {},
     "output_type": "execute_result"
    }
   ],
   "source": [
    "dict_mul_sing['name']"
   ]
  },
  {
   "cell_type": "code",
   "execution_count": 43,
   "id": "a5571e56",
   "metadata": {},
   "outputs": [
    {
     "data": {
      "text/plain": [
       "20"
      ]
     },
     "execution_count": 43,
     "metadata": {},
     "output_type": "execute_result"
    }
   ],
   "source": [
    "dict_mul_sing['unit1']"
   ]
  },
  {
   "cell_type": "code",
   "execution_count": 44,
   "id": "3426c2d5",
   "metadata": {},
   "outputs": [
    {
     "data": {
      "text/plain": [
       "30"
      ]
     },
     "execution_count": 44,
     "metadata": {},
     "output_type": "execute_result"
    }
   ],
   "source": [
    "dict_mul_sing['unit2']"
   ]
  },
  {
   "cell_type": "code",
   "execution_count": null,
   "id": "bfd8f5e1",
   "metadata": {},
   "outputs": [],
   "source": [
    "mul-keys-mul keyvalues"
   ]
  },
  {
   "cell_type": "code",
   "execution_count": 45,
   "id": "f9ea247e",
   "metadata": {},
   "outputs": [],
   "source": [
    "dict_mul_mul={\"name\": [\"param\",\"athma\"] ,\"unit1\": [10,20] }"
   ]
  },
  {
   "cell_type": "code",
   "execution_count": 46,
   "id": "b59c8445",
   "metadata": {},
   "outputs": [
    {
     "data": {
      "text/plain": [
       "{'name': ['param', 'athma'], 'unit1': [10, 20]}"
      ]
     },
     "execution_count": 46,
     "metadata": {},
     "output_type": "execute_result"
    }
   ],
   "source": [
    "dict_mul_mul"
   ]
  },
  {
   "cell_type": "code",
   "execution_count": 47,
   "id": "c821f578",
   "metadata": {},
   "outputs": [
    {
     "data": {
      "text/plain": [
       "dict_keys(['name', 'unit1'])"
      ]
     },
     "execution_count": 47,
     "metadata": {},
     "output_type": "execute_result"
    }
   ],
   "source": [
    "dict_mul_mul.keys()"
   ]
  },
  {
   "cell_type": "code",
   "execution_count": 48,
   "id": "3eca7023",
   "metadata": {},
   "outputs": [
    {
     "data": {
      "text/plain": [
       "['param', 'athma']"
      ]
     },
     "execution_count": 48,
     "metadata": {},
     "output_type": "execute_result"
    }
   ],
   "source": [
    "dict_mul_mul[\"name\"]"
   ]
  },
  {
   "cell_type": "code",
   "execution_count": 49,
   "id": "38507736",
   "metadata": {},
   "outputs": [
    {
     "data": {
      "text/plain": [
       "'athma'"
      ]
     },
     "execution_count": 49,
     "metadata": {},
     "output_type": "execute_result"
    }
   ],
   "source": [
    "dict_mul_mul[\"name\"][1]"
   ]
  },
  {
   "cell_type": "code",
   "execution_count": 50,
   "id": "be46c3ef",
   "metadata": {},
   "outputs": [
    {
     "data": {
      "text/plain": [
       "[10, 20]"
      ]
     },
     "execution_count": 50,
     "metadata": {},
     "output_type": "execute_result"
    }
   ],
   "source": [
    "dict_mul_mul['unit1']"
   ]
  },
  {
   "cell_type": "code",
   "execution_count": 51,
   "id": "3c768ce5",
   "metadata": {},
   "outputs": [
    {
     "data": {
      "text/plain": [
       "20"
      ]
     },
     "execution_count": 51,
     "metadata": {},
     "output_type": "execute_result"
    }
   ],
   "source": [
    "dict_mul_mul['unit1'][1]"
   ]
  },
  {
   "cell_type": "code",
   "execution_count": null,
   "id": "c14102fa",
   "metadata": {},
   "outputs": [],
   "source": [
    "conditions"
   ]
  },
  {
   "cell_type": "code",
   "execution_count": null,
   "id": "c5c86d7f",
   "metadata": {},
   "outputs": [],
   "source": [
    "only condition if"
   ]
  },
  {
   "cell_type": "code",
   "execution_count": null,
   "id": "7fef23b8",
   "metadata": {},
   "outputs": [],
   "source": [
    "\n",
    "\n",
    "sales today \n",
    "sales 10 profit --->"
   ]
  },
  {
   "cell_type": "code",
   "execution_count": null,
   "id": "5b9d3cb4",
   "metadata": {},
   "outputs": [],
   "source": [
    "if condtions:\n",
    "    statemeents "
   ]
  },
  {
   "cell_type": "code",
   "execution_count": null,
   "id": "c29e788f",
   "metadata": {},
   "outputs": [],
   "source": [
    "condition"
   ]
  },
  {
   "cell_type": "code",
   "execution_count": null,
   "id": "bcd3419d",
   "metadata": {},
   "outputs": [],
   "source": [
    "comparision value\n",
    "comparision operator\n",
    "reguler value"
   ]
  },
  {
   "cell_type": "code",
   "execution_count": null,
   "id": "f6303db2",
   "metadata": {},
   "outputs": [],
   "source": [
    "\n",
    "ge"
   ]
  },
  {
   "cell_type": "code",
   "execution_count": 53,
   "id": "a27e03b1",
   "metadata": {},
   "outputs": [],
   "source": [
    "sale = 12\n",
    "comparsion_sale= 10"
   ]
  },
  {
   "cell_type": "code",
   "execution_count": 54,
   "id": "7e5892a1",
   "metadata": {},
   "outputs": [
    {
     "name": "stdout",
     "output_type": "stream",
     "text": [
      "business is profit\n",
      "business process started\n",
      "business process ended \n"
     ]
    }
   ],
   "source": [
    "if sale >= comparsion_sale:\n",
    "    print(\"business is profit\")\n",
    "    \n",
    "print(\"business process started\")\n",
    "print(\"business process ended \")\n",
    "    "
   ]
  },
  {
   "cell_type": "code",
   "execution_count": 55,
   "id": "7ecb077c",
   "metadata": {},
   "outputs": [
    {
     "name": "stdout",
     "output_type": "stream",
     "text": [
      "business process started\n",
      "business process ended \n"
     ]
    }
   ],
   "source": [
    "sale = 9\n",
    "comparsion_sale= 10\n",
    "if sale >= comparsion_sale:\n",
    "    print(\"business is profit\")\n",
    "    \n",
    "print(\"business process started\")\n",
    "print(\"business process ended \")\n",
    "    "
   ]
  },
  {
   "cell_type": "code",
   "execution_count": null,
   "id": "b2ec8965",
   "metadata": {},
   "outputs": [],
   "source": [
    "\n",
    "profit or loss\n",
    "10 ge profit \n",
    "10 l loss"
   ]
  },
  {
   "cell_type": "code",
   "execution_count": null,
   "id": "54bce42f",
   "metadata": {},
   "outputs": [],
   "source": [
    "if condition:\n",
    "    statement\n",
    "else:\n",
    "    statement \n"
   ]
  },
  {
   "cell_type": "code",
   "execution_count": 56,
   "id": "ef3eaf15",
   "metadata": {},
   "outputs": [],
   "source": [
    "sale = 20\n",
    "comparision = 10"
   ]
  },
  {
   "cell_type": "code",
   "execution_count": 57,
   "id": "9ebf9797",
   "metadata": {},
   "outputs": [
    {
     "name": "stdout",
     "output_type": "stream",
     "text": [
      "business is profit\n",
      "business process started\n",
      "business process ended \n"
     ]
    }
   ],
   "source": [
    "if sale >= comparision:\n",
    "    print(\"business is profit\")\n",
    "else:\n",
    "    print(\"businees is loss\")\n",
    "print(\"business process started\")\n",
    "print(\"business process ended \")\n"
   ]
  },
  {
   "cell_type": "code",
   "execution_count": 58,
   "id": "9cd98a65",
   "metadata": {},
   "outputs": [],
   "source": [
    "sale = 8\n",
    "comparision = 10"
   ]
  },
  {
   "cell_type": "code",
   "execution_count": 59,
   "id": "7e004c5f",
   "metadata": {},
   "outputs": [
    {
     "name": "stdout",
     "output_type": "stream",
     "text": [
      "businees is loss\n",
      "business process started\n",
      "business process ended \n"
     ]
    }
   ],
   "source": [
    "if sale >= comparision:\n",
    "    print(\"business is profit\")\n",
    "else:\n",
    "    print(\"businees is loss\")\n",
    "print(\"business process started\")\n",
    "print(\"business process ended \")"
   ]
  },
  {
   "cell_type": "code",
   "execution_count": null,
   "id": "503b498a",
   "metadata": {},
   "outputs": [],
   "source": [
    "more than 2 conditions\n",
    "if elif else"
   ]
  },
  {
   "cell_type": "code",
   "execution_count": null,
   "id": "72979b7a",
   "metadata": {},
   "outputs": [],
   "source": [
    "if condition:\n",
    "    statement\n",
    "elif condition:\n",
    "    statement\n",
    "elif condition:\n",
    "    statment \n",
    "else:\n",
    "    statement "
   ]
  },
  {
   "cell_type": "code",
   "execution_count": null,
   "id": "419e6451",
   "metadata": {},
   "outputs": [],
   "source": [
    "\n",
    "20 good\n",
    "15-20 average \n",
    "10-15-below average\n",
    "10 below loss "
   ]
  },
  {
   "cell_type": "code",
   "execution_count": 65,
   "id": "c36f0b3a",
   "metadata": {},
   "outputs": [],
   "source": [
    "sale = 24\n"
   ]
  },
  {
   "cell_type": "code",
   "execution_count": 66,
   "id": "2c8c4340",
   "metadata": {},
   "outputs": [
    {
     "name": "stdout",
     "output_type": "stream",
     "text": [
      "business is good\n"
     ]
    }
   ],
   "source": [
    "if sale >= 20 :\n",
    "    print('business is good')\n",
    "elif sale >=15 and sale<20:\n",
    "    print('business is average')\n",
    "elif sale >=10 and sale<15:\n",
    "    print('business is below average')\n",
    "else:\n",
    "    print(\"business is loss\")\n",
    "    "
   ]
  },
  {
   "cell_type": "code",
   "execution_count": 1,
   "id": "71dd21fd",
   "metadata": {},
   "outputs": [],
   "source": [
    "lst = [10,20,30,40,50]"
   ]
  },
  {
   "cell_type": "code",
   "execution_count": null,
   "id": "43f189ba",
   "metadata": {},
   "outputs": [],
   "source": [
    "unit marks is 10\n",
    "unit marks is 20 "
   ]
  },
  {
   "cell_type": "code",
   "execution_count": null,
   "id": "56e42a35",
   "metadata": {},
   "outputs": [],
   "source": [
    "for i/yourwish in sequ/array/datfram/etc:\n",
    "    statement "
   ]
  },
  {
   "cell_type": "code",
   "execution_count": 2,
   "id": "015fd7a4",
   "metadata": {},
   "outputs": [
    {
     "name": "stdout",
     "output_type": "stream",
     "text": [
      "this is unit1 marks--> 10\n",
      "this is unit1 marks--> 20\n",
      "this is unit1 marks--> 30\n",
      "this is unit1 marks--> 40\n",
      "this is unit1 marks--> 50\n"
     ]
    }
   ],
   "source": [
    "for list_param in lst:\n",
    "    print(\"this is unit1 marks-->\",list_param)"
   ]
  },
  {
   "cell_type": "code",
   "execution_count": 3,
   "id": "caa092c9",
   "metadata": {},
   "outputs": [],
   "source": [
    "\n",
    "month_names=[\"apr\",\"may\",\"jun\"]\n",
    "sales=[10,20,30]"
   ]
  },
  {
   "cell_type": "code",
   "execution_count": null,
   "id": "9805bbb1",
   "metadata": {},
   "outputs": [],
   "source": [
    "inner---nested looops"
   ]
  },
  {
   "cell_type": "code",
   "execution_count": null,
   "id": "62dcacd8",
   "metadata": {},
   "outputs": [],
   "source": [
    "for i in lst:\n",
    "    statement\n",
    "    usage -->i\n",
    "    for j in lst:\n",
    "        statement\n",
    "        usage --j--i"
   ]
  },
  {
   "cell_type": "code",
   "execution_count": 6,
   "id": "2e620306",
   "metadata": {},
   "outputs": [
    {
     "name": "stdout",
     "output_type": "stream",
     "text": [
      "month name is--> apr\n",
      "sale value is ----> 10\n",
      "sale value is ----> 20\n",
      "sale value is ----> 30\n",
      "month name is--> may\n",
      "sale value is ----> 10\n",
      "sale value is ----> 20\n",
      "sale value is ----> 30\n",
      "month name is--> jun\n",
      "sale value is ----> 10\n",
      "sale value is ----> 20\n",
      "sale value is ----> 30\n"
     ]
    }
   ],
   "source": [
    "for monthname in month_names:\n",
    "    print(\"month name is-->\",monthname)\n",
    "    for salesvalue in sales:\n",
    "        print(\"sale value is ---->\",salesvalue)"
   ]
  },
  {
   "cell_type": "code",
   "execution_count": null,
   "id": "6bae42ea",
   "metadata": {},
   "outputs": [],
   "source": [
    "\n",
    "nested loop  with if condition"
   ]
  },
  {
   "cell_type": "code",
   "execution_count": 7,
   "id": "5dc83d02",
   "metadata": {},
   "outputs": [],
   "source": [
    "months=['apr','may','jun']\n",
    "sales=[10,20,30]\n",
    "# conditions: month apr 30% discount add \n",
    "#     may 20% value\n",
    "#     jun 10% value"
   ]
  },
  {
   "cell_type": "code",
   "execution_count": 12,
   "id": "59ea5007",
   "metadata": {},
   "outputs": [
    {
     "name": "stdout",
     "output_type": "stream",
     "text": [
      "month name is ---> apr\n",
      " sale value is ---> 13.0\n",
      " sale value is ---> 26.0\n",
      " sale value is ---> 39.0\n",
      "month name is ---> may\n",
      " sale value is ---> 12.0\n",
      " sale value is ---> 24.0\n",
      " sale value is ---> 36.0\n",
      "month name is ---> jun\n",
      " sale value is ---> 11.0\n",
      " sale value is ---> 22.0\n",
      " sale value is ---> 33.0\n"
     ]
    }
   ],
   "source": [
    "for monthnames in months:\n",
    "    print(\"month name is --->\",monthnames)\n",
    "    if monthnames==\"apr\":        \n",
    "        for salesvalue in sales:\n",
    "            discount=salesvalue*.30            \n",
    "            print(\" sale value is --->\",salesvalue+discount)\n",
    "    elif monthnames==\"may\":        \n",
    "        for salesvalue in sales:\n",
    "            discount=salesvalue*.20            \n",
    "            print(\" sale value is --->\",salesvalue+discount)\n",
    "    else:        \n",
    "        for salesvalue in sales:\n",
    "            discount=salesvalue*.10            \n",
    "            print(\" sale value is --->\",salesvalue+discount)"
   ]
  },
  {
   "cell_type": "code",
   "execution_count": null,
   "id": "2badc0ab",
   "metadata": {},
   "outputs": [],
   "source": [
    "# user defined function"
   ]
  },
  {
   "cell_type": "code",
   "execution_count": null,
   "id": "a20df6c9",
   "metadata": {},
   "outputs": [],
   "source": [
    "function definition\n",
    "\n",
    "def funcitonname(parameters, parameters,---,parameters):\n",
    "    statements\n",
    "    return value\n",
    "\n"
   ]
  },
  {
   "cell_type": "code",
   "execution_count": null,
   "id": "fcaddda0",
   "metadata": {},
   "outputs": [],
   "source": [
    "monthname,sales"
   ]
  },
  {
   "cell_type": "code",
   "execution_count": 13,
   "id": "a50eb10e",
   "metadata": {},
   "outputs": [],
   "source": [
    "def monthsales(months,sales):\n",
    "    for monthnames in months:\n",
    "        print(\"month name is --->\",monthnames)\n",
    "        if monthnames==\"apr\":        \n",
    "            for salesvalue in sales:\n",
    "                discount=salesvalue*.30            \n",
    "                print(\" sale value is --->\",salesvalue+discount)\n",
    "        elif monthnames==\"may\":        \n",
    "            for salesvalue in sales:\n",
    "                discount=salesvalue*.20            \n",
    "                print(\" sale value is --->\",salesvalue+discount)\n",
    "        else:        \n",
    "            for salesvalue in sales:\n",
    "                discount=salesvalue*.10            \n",
    "                print(\" sale value is --->\",salesvalue+discount)\n",
    "            \n",
    "    \n",
    "    "
   ]
  },
  {
   "cell_type": "code",
   "execution_count": 15,
   "id": "9ba4c763",
   "metadata": {},
   "outputs": [],
   "source": [
    "months=['apr','may','jun']\n",
    "sales=[10,20,30]"
   ]
  },
  {
   "cell_type": "code",
   "execution_count": 16,
   "id": "22fa077b",
   "metadata": {},
   "outputs": [
    {
     "name": "stdout",
     "output_type": "stream",
     "text": [
      "month name is ---> apr\n",
      " sale value is ---> 13.0\n",
      " sale value is ---> 26.0\n",
      " sale value is ---> 39.0\n",
      "month name is ---> may\n",
      " sale value is ---> 12.0\n",
      " sale value is ---> 24.0\n",
      " sale value is ---> 36.0\n",
      "month name is ---> jun\n",
      " sale value is ---> 11.0\n",
      " sale value is ---> 22.0\n",
      " sale value is ---> 33.0\n"
     ]
    }
   ],
   "source": [
    "monthsales(months,sales)"
   ]
  },
  {
   "cell_type": "code",
   "execution_count": 14,
   "id": "ab341a7f",
   "metadata": {},
   "outputs": [
    {
     "name": "stdout",
     "output_type": "stream",
     "text": [
      "month name is ---> apr\n",
      " sale value is ---> 13.0\n",
      " sale value is ---> 26.0\n",
      " sale value is ---> 39.0\n",
      "month name is ---> may\n",
      " sale value is ---> 12.0\n",
      " sale value is ---> 24.0\n",
      " sale value is ---> 36.0\n",
      "month name is ---> jun\n",
      " sale value is ---> 11.0\n",
      " sale value is ---> 22.0\n",
      " sale value is ---> 33.0\n"
     ]
    }
   ],
   "source": [
    "monthsales(['apr','may','jun'],[10,20,30])"
   ]
  },
  {
   "cell_type": "code",
   "execution_count": null,
   "id": "3464e75e",
   "metadata": {},
   "outputs": [],
   "source": []
  },
  {
   "cell_type": "code",
   "execution_count": null,
   "id": "e5bfd313",
   "metadata": {},
   "outputs": [],
   "source": [
    "# month report \n",
    "def monthsales(months,sales):\n",
    "    for monthnames in months:\n",
    "        print(\"month name is --->\",monthnames)\n",
    "        if monthnames==\"apr\":        \n",
    "            for salesvalue in sales:\n",
    "                discount=salesvalue*.30            \n",
    "                print(\" sale value is --->\",salesvalue+discount)\n",
    "        elif monthnames==\"may\":        \n",
    "            for salesvalue in sales:\n",
    "                discount=salesvalue*.20            \n",
    "                print(\" sale value is --->\",salesvalue+discount)\n",
    "        else:        \n",
    "            for salesvalue in sales:\n",
    "                discount=salesvalue*.10            \n",
    "                print(\" sale value is --->\",salesvalue+discount)"
   ]
  },
  {
   "cell_type": "code",
   "execution_count": null,
   "id": "4107fe29",
   "metadata": {},
   "outputs": [],
   "source": [
    "# week wise report \n",
    "def monthsales(weeks,sales):\n",
    "    for monthnames in months:\n",
    "        print(\"month name is --->\",monthnames)\n",
    "        if monthnames==\"apr\":        \n",
    "            for salesvalue in sales:\n",
    "                discount=salesvalue*.30            \n",
    "                print(\" sale value is --->\",salesvalue+discount)\n",
    "        elif monthnames==\"may\":        \n",
    "            for salesvalue in sales:\n",
    "                discount=salesvalue*.20            \n",
    "                print(\" sale value is --->\",salesvalue+discount)\n",
    "        else:        \n",
    "            for salesvalue in sales:\n",
    "                discount=salesvalue*.10            \n",
    "                print(\" sale value is --->\",salesvalue+discount)\n",
    "            \n",
    "    \n",
    "    \n"
   ]
  },
  {
   "cell_type": "code",
   "execution_count": null,
   "id": "ae47b48e",
   "metadata": {},
   "outputs": [],
   "source": [
    "# days wise report \n",
    "def monthsales(days,sales):\n",
    "    for monthnames in months:\n",
    "        print(\"month name is --->\",monthnames)\n",
    "        if monthnames==\"apr\":        \n",
    "            for salesvalue in sales:\n",
    "                discount=salesvalue*.30            \n",
    "                print(\" sale value is --->\",salesvalue+discount)\n",
    "        elif monthnames==\"may\":        \n",
    "            for salesvalue in sales:\n",
    "                discount=salesvalue*.20            \n",
    "                print(\" sale value is --->\",salesvalue+discount)\n",
    "        else:        \n",
    "            for salesvalue in sales:\n",
    "                discount=salesvalue*.10            \n",
    "                print(\" sale value is --->\",salesvalue+discount)\n",
    "            \n",
    "    \n",
    "    \n"
   ]
  }
 ],
 "metadata": {
  "kernelspec": {
   "display_name": "Python 3 (ipykernel)",
   "language": "python",
   "name": "python3"
  },
  "language_info": {
   "codemirror_mode": {
    "name": "ipython",
    "version": 3
   },
   "file_extension": ".py",
   "mimetype": "text/x-python",
   "name": "python",
   "nbconvert_exporter": "python",
   "pygments_lexer": "ipython3",
   "version": "3.10.9"
  }
 },
 "nbformat": 4,
 "nbformat_minor": 5
}
